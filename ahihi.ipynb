{
 "cells": [
  {
   "cell_type": "code",
   "execution_count": 28,
   "metadata": {},
   "outputs": [
    {
     "data": {
      "text/plain": [
       "['captchaTrainingSet/imagesTraining/test100.gif',\n",
       " 'captchaTrainingSet/imagesTraining/test101.gif',\n",
       " 'captchaTrainingSet/imagesTraining/test102.gif',\n",
       " 'captchaTrainingSet/imagesTraining/test103.gif',\n",
       " 'captchaTrainingSet/imagesTraining/test104.gif']"
      ]
     },
     "execution_count": 28,
     "metadata": {},
     "output_type": "execute_result"
    }
   ],
   "source": [
    "from glob import glob\n",
    "import cv2\n",
    "\n",
    "img_paths = sorted(glob('captchaTrainingSet/imagesTraining/*.gif'))\n",
    "img_paths[:5]"
   ]
  },
  {
   "cell_type": "code",
   "execution_count": 29,
   "metadata": {
    "scrolled": true
   },
   "outputs": [],
   "source": [
    "from shutil import rmtree\n",
    "import os\n",
    "\n",
    "def create_new_folder(folder_name):\n",
    "    if os.path.exists(folder_name):\n",
    "        rmtree(folder_name)\n",
    "    os.mkdir(folder_name)\n",
    "\n",
    "def remove_noise(img_path):\n",
    "    img_name = img_path.split('/')[-1].split('.')[0]\n",
    "    img = cv2.imread(img_path)\n",
    "    for i in range(50):\n",
    "        for j in range(170):\n",
    "            if sum(img[i][j]) >= 170*3: \n",
    "                img[i][j] = [255, 255, 255]\n",
    "    cv2.imwrite('noise-removed/{}.jpg'.format(img_name), img)\n",
    "\n",
    "create_new_folder('noise-removed')\n",
    "for img_path in img_paths:\n",
    "    remove_noise(img_path)"
   ]
  },
  {
   "cell_type": "code",
   "execution_count": 30,
   "metadata": {},
   "outputs": [
    {
     "data": {
      "image/png": "[encoded data removed]",
      "text/plain": [
       "<PIL.JpegImagePlugin.JpegImageFile image mode=RGB size=170x50 at 0x10C2BB5C0>"
      ]
     },
     "execution_count": 30,
     "metadata": {},
     "output_type": "execute_result"
    }
   ],
   "source": [
    "from PIL import Image\n",
    "img_pil = Image.open('noise-removed/test100.jpg')\n",
    "img_pil"
   ]
  },
  {
   "cell_type": "code",
   "execution_count": 64,
   "metadata": {},
   "outputs": [
    {
     "data": {
      "image/png": "[encoded data removed]",
      "text/plain": [
       "<PIL.JpegImagePlugin.JpegImageFile image mode=RGB size=170x50 at 0x10C41A470>"
      ]
     },
     "execution_count": 64,
     "metadata": {},
     "output_type": "execute_result"
    }
   ],
   "source": [
    "img_pil = Image.open('noise-removed/test50.jpg')\n",
    "img_pil"
   ]
  },
  {
   "cell_type": "code",
   "execution_count": 97,
   "metadata": {},
   "outputs": [
    {
     "name": "stdout",
     "output_type": "stream",
     "text": [
      "[46 46 46] 46 46 46\n"
     ]
    },
    {
     "data": {
      "text/plain": [
       "[array([46, 46, 46], dtype=uint8),\n",
       " array([10, 10, 10], dtype=uint8),\n",
       " array([83, 83, 83], dtype=uint8),\n",
       " array([122, 111, 184], dtype=uint8),\n",
       " array([139, 132, 236], dtype=uint8),\n",
       " array([ 48,  95, 186], dtype=uint8)]"
      ]
     },
     "execution_count": 97,
     "metadata": {},
     "output_type": "execute_result"
    }
   ],
   "source": [
    "import numpy as np\n",
    "\n",
    "threshold = 80\n",
    "colors = []\n",
    "img = cv2.imread('noise-removed/test50.jpg')\n",
    "d = {}\n",
    "for i in img:\n",
    "    for j in i:\n",
    "        if sum(j) > 200*3: \n",
    "            continue\n",
    "        if not colors:\n",
    "            colors.append(j)\n",
    "            c_name = ' '.join([str(c) for c in j])\n",
    "            print(j, c_name)\n",
    "            d[c_name] = 1\n",
    "        else:\n",
    "            found = False\n",
    "            for k in colors:\n",
    "                if abs(sum(j) - sum(k)) < threshold:\n",
    "                    c_name = ' '.join([str(c) for c in k])\n",
    "                    d[c_name] = d.get(c_name, 0) + 1\n",
    "                    found = True\n",
    "                    break\n",
    "            if not found:\n",
    "                colors.append(j)\n",
    "                c_name = ' '.join([str(c) for c in j])\n",
    "                d[c_name] = d.get(c_name, 0) + 1\n",
    "colors\n",
    "        "
   ]
  },
  {
   "cell_type": "code",
   "execution_count": 88,
   "metadata": {},
   "outputs": [
    {
     "data": {
      "text/plain": [
       "{'10 10 10': 396,\n",
       " '26 26 26': 28,\n",
       " '39 26 166': 250,\n",
       " '46 46 46': 67,\n",
       " '60 60 60': 22}"
      ]
     },
     "execution_count": 88,
     "metadata": {},
     "output_type": "execute_result"
    }
   ],
   "source": [
    "d"
   ]
  },
  {
   "cell_type": "code",
   "execution_count": null,
   "metadata": {
    "collapsed": true
   },
   "outputs": [],
   "source": []
  }
 ],
 "metadata": {
  "kernelspec": {
   "display_name": "Python 3",
   "language": "python",
   "name": "python3"
  },
  "language_info": {
   "codemirror_mode": {
    "name": "ipython",
    "version": 3
   },
   "file_extension": ".py",
   "mimetype": "text/x-python",
   "name": "python",
   "nbconvert_exporter": "python",
   "pygments_lexer": "ipython3",
   "version": "3.5.3"
  }
 },
 "nbformat": 4,
 "nbformat_minor": 2
}
